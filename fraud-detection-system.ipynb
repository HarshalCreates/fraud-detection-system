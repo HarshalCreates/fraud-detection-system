{
 "cells": [
  {
   "cell_type": "code",
   "execution_count": 15,
   "id": "261691c7-5928-4401-8632-7be1a33c7d6c",
   "metadata": {},
   "outputs": [],
   "source": [
    "import pandas as pd\n",
    "import os\n",
    "import numpy as np"
   ]
  },
  {
   "cell_type": "code",
   "execution_count": 6,
   "id": "063630e7-b819-4edd-993c-86a75012217e",
   "metadata": {},
   "outputs": [],
   "source": [
    "folder_path = \"data\"\n",
    "all_dfs = []"
   ]
  },
  {
   "cell_type": "code",
   "execution_count": 7,
   "id": "8a4c096b-af31-4f40-96c4-a56686965e0f",
   "metadata": {},
   "outputs": [],
   "source": [
    "for file in os.listdir(folder_path):\n",
    "    if file.endswith(\".pkl\"):\n",
    "        file_path = os.path.join(folder_path,file)\n",
    "        df = pd.read_pickle(file_path)\n",
    "        all_dfs.append(df)\n",
    "\n"
   ]
  },
  {
   "cell_type": "code",
   "execution_count": 8,
   "id": "bbcf84a8-b73f-4146-98bb-edfd235050b9",
   "metadata": {},
   "outputs": [],
   "source": [
    "df = pd.concat(all_dfs, ignore_index=True)    \n"
   ]
  },
  {
   "cell_type": "code",
   "execution_count": 10,
   "id": "3993264c-cbfe-4080-94ac-db5f769b0e72",
   "metadata": {},
   "outputs": [
    {
     "name": "stdout",
     "output_type": "stream",
     "text": [
      "Final dataset shape:(1754155, 9)\n"
     ]
    }
   ],
   "source": [
    "print(f\"Final dataset shape:{df.shape}\")"
   ]
  },
  {
   "cell_type": "code",
   "execution_count": 11,
   "id": "c542ac4a-6f89-455b-be9a-fef8e86ea505",
   "metadata": {},
   "outputs": [
    {
     "name": "stdout",
     "output_type": "stream",
     "text": [
      "       TRANSACTION_ID                    TX_DATETIME     TX_AMOUNT  \\\n",
      "count    1.754155e+06                        1754155  1.754155e+06   \n",
      "mean     8.770770e+05  2018-07-01 11:20:33.708572160  5.363230e+01   \n",
      "min      0.000000e+00            2018-04-01 00:00:31  0.000000e+00   \n",
      "25%      4.385385e+05     2018-05-16 14:40:46.500000  2.101000e+01   \n",
      "50%      8.770770e+05            2018-07-01 11:11:10  4.464000e+01   \n",
      "75%      1.315616e+06     2018-08-16 08:01:01.500000  7.695000e+01   \n",
      "max      1.754154e+06            2018-09-30 23:59:57  2.628000e+03   \n",
      "std      5.063811e+05                            NaN  4.232649e+01   \n",
      "\n",
      "           TX_FRAUD  TX_FRAUD_SCENARIO  \n",
      "count  1.754155e+06       1.754155e+06  \n",
      "mean   8.369272e-03       1.882388e-02  \n",
      "min    0.000000e+00       0.000000e+00  \n",
      "25%    0.000000e+00       0.000000e+00  \n",
      "50%    0.000000e+00       0.000000e+00  \n",
      "75%    0.000000e+00       0.000000e+00  \n",
      "max    1.000000e+00       3.000000e+00  \n",
      "std    9.110012e-02       2.113263e-01  \n"
     ]
    }
   ],
   "source": [
    "print(df.describe())"
   ]
  },
  {
   "cell_type": "code",
   "execution_count": 12,
   "id": "070a0ab7-1772-47ef-8f17-4b1c47ba05fc",
   "metadata": {},
   "outputs": [
    {
     "name": "stdout",
     "output_type": "stream",
     "text": [
      "TX_FRAUD\n",
      "0    1739474\n",
      "1      14681\n",
      "Name: count, dtype: int64\n"
     ]
    }
   ],
   "source": [
    "print(df['TX_FRAUD'].value_counts())"
   ]
  },
  {
   "cell_type": "code",
   "execution_count": 13,
   "id": "0d7b376f-b76b-4200-a7ac-07c8e700eedf",
   "metadata": {},
   "outputs": [],
   "source": [
    "df[\"TX_DATETIME\"] = pd.to_datetime(df[\"TX_DATETIME\"])\n",
    "df[\"hour\"] = df[\"TX_DATETIME\"].dt.hour\n",
    "df[\"day\"] = df[\"TX_DATETIME\"].dt.day\n",
    "df[\"month\"] = df[\"TX_DATETIME\"].dt.month\n"
   ]
  },
  {
   "cell_type": "code",
   "execution_count": 16,
   "id": "076327fa-f184-4f4f-96a8-bb748c84e1cd",
   "metadata": {},
   "outputs": [],
   "source": [
    "df[\"log_amount\"] = df[\"TX_AMOUNT\"].apply(lambda x: np.log(x + 1))\n"
   ]
  },
  {
   "cell_type": "code",
   "execution_count": 17,
   "id": "f1c594ea-648c-4fd6-8e96-69392566b2e5",
   "metadata": {},
   "outputs": [],
   "source": [
    "df[\"customer_tx_count\"] = df.groupby(\"CUSTOMER_ID\")[\"TX_AMOUNT\"].transform(\"count\")\n",
    "df[\"customer_avg_tx\"] = df.groupby(\"CUSTOMER_ID\")[\"TX_AMOUNT\"].transform(\"mean\")\n"
   ]
  },
  {
   "cell_type": "code",
   "execution_count": 18,
   "id": "c3a44076-8b6d-4350-9794-587093096ce4",
   "metadata": {},
   "outputs": [],
   "source": [
    "from sklearn.preprocessing import StandardScaler, LabelEncoder\n",
    "\n",
    "\n",
    "df = df.drop(columns=[\"TRANSACTION_ID\", \"TX_DATETIME\"])  \n",
    "\n",
    "\n",
    "label_enc = LabelEncoder()\n",
    "df[\"CUSTOMER_ID\"] = label_enc.fit_transform(df[\"CUSTOMER_ID\"])\n",
    "df[\"TERMINAL_ID\"] = label_enc.fit_transform(df[\"TERMINAL_ID\"])\n",
    "\n",
    "\n",
    "scaler = StandardScaler()\n",
    "df[\"TX_AMOUNT_SCALED\"] = scaler.fit_transform(df[[\"TX_AMOUNT\"]])\n"
   ]
  },
  {
   "cell_type": "code",
   "execution_count": 20,
   "id": "3daa6a0e-c67b-4aab-a8d4-bdab787c588b",
   "metadata": {},
   "outputs": [],
   "source": [
    "from sklearn.model_selection import train_test_split\n",
    "\n",
    "X = df.drop(columns=[\"TX_FRAUD\"]) \n",
    "y = df[\"TX_FRAUD\"]  \n",
    "\n",
    "X_train, X_test, y_train, y_test = train_test_split(X, y, test_size=0.2, random_state=42, stratify=y)\n"
   ]
  },
  {
   "cell_type": "code",
   "execution_count": 21,
   "id": "ffbe3ab0-3023-4080-ab8e-d0a54b7d593c",
   "metadata": {},
   "outputs": [
    {
     "name": "stdout",
     "output_type": "stream",
     "text": [
      "              precision    recall  f1-score   support\n",
      "\n",
      "           0       1.00      1.00      1.00    347895\n",
      "           1       1.00      1.00      1.00      2936\n",
      "\n",
      "    accuracy                           1.00    350831\n",
      "   macro avg       1.00      1.00      1.00    350831\n",
      "weighted avg       1.00      1.00      1.00    350831\n",
      "\n",
      "ROC-AUC Score: 1.0\n"
     ]
    }
   ],
   "source": [
    "from sklearn.ensemble import RandomForestClassifier\n",
    "from sklearn.metrics import classification_report, roc_auc_score\n",
    "\n",
    "model = RandomForestClassifier(n_estimators=100, random_state=42, class_weight=\"balanced\")\n",
    "model.fit(X_train, y_train)\n",
    "\n",
    "y_pred = model.predict(X_test)\n",
    "\n",
    "print(classification_report(y_test, y_pred))\n",
    "print(\"ROC-AUC Score:\", roc_auc_score(y_test, y_pred))\n"
   ]
  },
  {
   "cell_type": "code",
   "execution_count": 24,
   "id": "70d9eb64-e1ce-4812-8a16-1ce50c29a2f8",
   "metadata": {},
   "outputs": [],
   "source": [
    "from imblearn.over_sampling import SMOTE\n",
    "\n",
    "smote = SMOTE(sampling_strategy=0.5, random_state=42)\n",
    "X_train_resampled, y_train_resampled = smote.fit_resample(X_train, y_train)\n",
    "\n"
   ]
  },
  {
   "cell_type": "code",
   "execution_count": 26,
   "id": "ea0d641f-5d29-4d3e-bbfa-fe1ee6682e68",
   "metadata": {},
   "outputs": [],
   "source": [
    "import pickle\n",
    "\n",
    "with open(\"fraud_detection_model.pkl\", \"wb\") as f:\n",
    "    pickle.dump(model, f)\n"
   ]
  },
  {
   "cell_type": "code",
   "execution_count": 27,
   "id": "78277b1d-d7c2-4e82-9df0-258bdf31a04e",
   "metadata": {},
   "outputs": [],
   "source": [
    "with open(\"fraud_detection_model.pkl\", \"rb\") as f:\n",
    "    loaded_model = pickle.load(f)\n",
    "\n",
    "predictions = loaded_model.predict(X_test)\n"
   ]
  },
  {
   "cell_type": "code",
   "execution_count": 30,
   "id": "6dc291fa-677d-4663-8914-4e2f48f00f8f",
   "metadata": {},
   "outputs": [
    {
     "name": "stdout",
     "output_type": "stream",
     "text": [
      "              precision    recall  f1-score   support\n",
      "\n",
      "           0       1.00      1.00      1.00    347895\n",
      "           1       1.00      1.00      1.00      2936\n",
      "\n",
      "    accuracy                           1.00    350831\n",
      "   macro avg       1.00      1.00      1.00    350831\n",
      "weighted avg       1.00      1.00      1.00    350831\n",
      "\n",
      "ROC-AUC Score: 1.0\n"
     ]
    },
    {
     "data": {
      "image/png": "[encoded data removed]",
      "text/plain": [
       "<Figure size 640x480 with 2 Axes>"
      ]
     },
     "metadata": {},
     "output_type": "display_data"
    }
   ],
   "source": [
    "from sklearn.metrics import classification_report, confusion_matrix, roc_auc_score\n",
    "\n",
    "# Make predictions on test data\n",
    "y_pred = model.predict(X_test)\n",
    "\n",
    "# Classification Report\n",
    "print(classification_report(y_test, y_pred))\n",
    "\n",
    "# ROC-AUC Score (Measures fraud detection capability)\n",
    "print(\"ROC-AUC Score:\", roc_auc_score(y_test, y_pred))\n",
    "\n",
    "# Confusion Matrix\n",
    "import seaborn as sns\n",
    "import matplotlib.pyplot as plt\n",
    "\n",
    "cm = confusion_matrix(y_test, y_pred)\n",
    "sns.heatmap(cm, annot=True, fmt=\"d\", cmap=\"Blues\", xticklabels=[\"Not Fraud\", \"Fraud\"], yticklabels=[\"Not Fraud\", \"Fraud\"])\n",
    "plt.xlabel(\"Predicted\")\n",
    "plt.ylabel(\"Actual\")\n",
    "plt.title(\"Confusion Matrix\")\n",
    "plt.show()\n"
   ]
  },
  {
   "cell_type": "code",
   "execution_count": 51,
   "id": "6912d720-9adc-4568-b8f4-86d68b3509c3",
   "metadata": {},
   "outputs": [
    {
     "name": "stdout",
     "output_type": "stream",
     "text": [
      "       CUSTOMER_ID TERMINAL_ID  TX_AMOUNT TX_TIME_SECONDS TX_TIME_DAYS  \\\n",
      "547195        3567        7476      77.55         4925456           57   \n",
      "547250        4959        9745       8.41         4927973           57   \n",
      "547275        2938         373     115.65         4929040           57   \n",
      "547370        4947        6377      22.48         4931611           57   \n",
      "547373        1795        1003      37.37         4931659           57   \n",
      "...            ...         ...        ...             ...          ...   \n",
      "556408         469        9102     112.35         5000763           57   \n",
      "556591        3076        1909     132.03         5004860           57   \n",
      "556629        3850        5438      24.40         5005920           57   \n",
      "556675         885        7868      23.21         5007845           57   \n",
      "556751        3739        2574      64.60         5010804           57   \n",
      "\n",
      "        TX_FRAUD_SCENARIO  hour  day  month  log_amount  customer_tx_count  \\\n",
      "547195                  2     0   28      5    4.363735                  4   \n",
      "547250                  2     0   28      5    2.241773                  3   \n",
      "547275                  3     1   28      5    4.759178                  6   \n",
      "547370                  2     1   28      5    3.156149                  2   \n",
      "547373                  2     1   28      5    3.647276                  3   \n",
      "...                   ...   ...  ...    ...         ...                ...   \n",
      "556408                  2    21   28      5    4.730480                  2   \n",
      "556591                  2    22   28      5    4.890575                  2   \n",
      "556629                  2    22   28      5    3.234749                  2   \n",
      "556675                  2    23   28      5    3.186766                  5   \n",
      "556751                  2    23   28      5    4.183576                  3   \n",
      "\n",
      "        customer_avg_tx  TX_AMOUNT_SCALED  Fraud_Prediction  \n",
      "547195        69.315000          0.565076                 1  \n",
      "547250        12.753333         -1.068416                 1  \n",
      "547275        59.588333          1.465222                 1  \n",
      "547370        22.490000         -0.736000                 1  \n",
      "547373        27.010000         -0.384211                 1  \n",
      "...                 ...               ...               ...  \n",
      "556408       123.550000          1.387257                 1  \n",
      "556591       107.845000          1.852214                 1  \n",
      "556629        35.095000         -0.690639                 1  \n",
      "556675        24.556000         -0.718753                 1  \n",
      "556751        41.933333          0.259121                 1  \n",
      "\n",
      "[92 rows x 14 columns]\n"
     ]
    }
   ],
   "source": [
    "# Load a new transaction dataset (or manually create a sample)\n",
    "new_data = pd.read_pickle(\"2018-05-28.pkl\")  # Replace with actual new data file\n",
    "\n",
    "\n",
    "# Preprocess new data (use same transformations as before)\n",
    "new_data[\"hour\"] = pd.to_datetime(new_data[\"TX_DATETIME\"]).dt.hour\n",
    "new_data[\"day\"] = pd.to_datetime(new_data[\"TX_DATETIME\"]).dt.day\n",
    "new_data[\"month\"] = pd.to_datetime(new_data[\"TX_DATETIME\"]).dt.month\n",
    "new_data[\"log_amount\"] = new_data[\"TX_AMOUNT\"].apply(lambda x: np.log(x + 1))\n",
    "\n",
    "new_data[\"customer_tx_count\"] = new_data.groupby(\"CUSTOMER_ID\")[\"TX_AMOUNT\"].transform(\"count\")\n",
    "new_data[\"customer_avg_tx\"] = new_data.groupby(\"CUSTOMER_ID\")[\"TX_AMOUNT\"].transform(\"mean\")\n",
    "\n",
    "new_data[\"TX_AMOUNT_SCALED\"] = scaler.transform(new_data[[\"TX_AMOUNT\"]])\n",
    "new_data = new_data.drop(columns=[\"TRANSACTION_ID\", \"TX_DATETIME\",\"TX_FRAUD\"])\n",
    "# Recompute missing features\n",
    "\n",
    "\n",
    "\n",
    "\n",
    "# Customer-based features (ensure same aggregation method)\n",
    "\n",
    "\n",
    "# Make predictions\n",
    "predictions = model.predict(new_data)\n",
    "\n",
    "# Add predictions to DataFrame\n",
    "new_data[\"Fraud_Prediction\"] = predictions\n",
    "\n",
    "# Show fraudulent transactions detected\n",
    "fraud_cases = new_data[new_data[\"Fraud_Prediction\"] == 1]\n",
    "print(fraud_cases)\n"
   ]
  },
  {
   "cell_type": "code",
   "execution_count": 50,
   "id": "c5ce288a-546d-4533-aa39-71eaebcaf9a1",
   "metadata": {},
   "outputs": [
    {
     "name": "stdout",
     "output_type": "stream",
     "text": [
      "     CUSTOMER_ID TERMINAL_ID  TX_AMOUNT TX_TIME_SECONDS TX_TIME_DAYS  \\\n",
      "3527        3774        3059     225.41           37063            0   \n",
      "5790        4944        6050     222.26           48708            0   \n",
      "6549        4625        9102     226.40           52922            0   \n",
      "\n",
      "      TX_FRAUD_SCENARIO  hour  day  month  log_amount  customer_tx_count  \\\n",
      "3527                  1    10    1      4    5.422348                  6   \n",
      "5790                  1    13    1      4    5.408337                  2   \n",
      "6549                  1    14    1      4    5.426711                  4   \n",
      "\n",
      "      customer_avg_tx  TX_AMOUNT_SCALED  Fraud_Prediction  \n",
      "3527       127.238333          4.058398                 1  \n",
      "5790       127.605000          3.983976                 1  \n",
      "6549       167.165000          4.081788                 1  \n"
     ]
    }
   ],
   "source": [
    "print(fraud_cases)"
   ]
  },
  {
   "cell_type": "code",
   "execution_count": null,
   "id": "de4db143-fff6-42d7-8210-5026691dedc7",
   "metadata": {},
   "outputs": [],
   "source": []
  }
 ],
 "metadata": {
  "kernelspec": {
   "display_name": "Python 3 (ipykernel)",
   "language": "python",
   "name": "python3"
  },
  "language_info": {
   "codemirror_mode": {
    "name": "ipython",
    "version": 3
   },
   "file_extension": ".py",
   "mimetype": "text/x-python",
   "name": "python",
   "nbconvert_exporter": "python",
   "pygments_lexer": "ipython3",
   "version": "3.11.6"
  }
 },
 "nbformat": 4,
 "nbformat_minor": 5
}
